{
 "cells": [
  {
   "cell_type": "markdown",
   "metadata": {},
   "source": [
    "# Introduction to the course"
   ]
  },
  {
   "cell_type": "markdown",
   "metadata": {},
   "source": [
    "### Why this course?"
   ]
  },
  {
   "cell_type": "markdown",
   "metadata": {},
   "source": [
    "This course covers the entire workflow of a Data Scientist from beginning to end, this starts with: \n",
    "* Learning how to ask the right questions;\n",
    "* Gathering the Data;\n",
    "* Cleaning the Data;\n",
    "* Exploring and visualising the data;\n",
    "* Put in and train the MAchine Learning Algotrithm;\n",
    "* Evaluate the Algorithm's performance and analyse the results\n",
    "* Learn how to make the first regression through to complex and advanced topics like TensorFlow and Deeplearning\n",
    "* How to code in Python 3\n",
    "\n",
    "This is the only online course taught by a professional bootcamp instructor"
   ]
  },
  {
   "cell_type": "markdown",
   "metadata": {},
   "source": []
  }
 ],
 "metadata": {
  "language_info": {
   "name": "python"
  }
 },
 "nbformat": 4,
 "nbformat_minor": 2
}
