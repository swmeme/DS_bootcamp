{
 "cells": [
  {
   "cell_type": "markdown",
   "metadata": {},
   "source": [
    "# Introduction to the course"
   ]
  },
  {
   "cell_type": "markdown",
   "metadata": {},
   "source": [
    "### Why this course?"
   ]
  },
  {
   "cell_type": "markdown",
   "metadata": {},
   "source": [
    "This course covers the entire workflow of a Data Scientist from beginning to end, this starts with: \n",
    "* Learning how to ask the right questions;\n",
    "* Gathering the Data;\n",
    "* Cleaning the Data;\n",
    "* Exploring and visualising the data;\n",
    "* Put in and train the Machine Learning Algotrithm;\n",
    "* Evaluate the Algorithm's performance and analyse the results\n",
    "* Learn how to make the first regression through to complex and advanced topics like TensorFlow and Deeplearning\n",
    "* How to code in Python 3\n",
    "\n",
    "This is the only online course taught by a professional bootcamp instructor"
   ]
  },
  {
   "cell_type": "markdown",
   "metadata": {},
   "source": [
    "# What is Machine Learning?"
   ]
  },
  {
   "cell_type": "markdown",
   "metadata": {},
   "source": [
    "Computers exist because some guy wanted to work less and chill more. The first computer was the abacus, then the programmers, who were to lazy for the abacus, made the calculator. After this (and with this i mean a lot of time) we figured out transistors and we could use them to do perform logical tasks, and then we finally reached the computers we know today, this is a big summary about the begining of the PC's.\n",
    "\n",
    "But what if we could get the computer to do even MORE of our work? What about simple tasks only humans could do, like identify fruits like a tomatoe? What this computer program would be like? We start with a simple generic command: \"if color == 'red':  keep\". But not all tomatoes are red, so we tell our program other caracteristics of a tomatoe: a certain weight, form, even if it's hard or soft...\n",
    "\n",
    "But the problem is not only that... so we ask ourselves: How did a kid learn what is a tomatoe? Maybe showing a lot of examples of tomatoes. That is close to Machine Learning. Showing lots of different examples of something that gets to the same result to a machine is called supervised learning. By providing labeled trained data we can slowly teach our computers what a tomatoe is. That is ML, to teach a machine by lots of examples how to learn to do a certain task, how google tells us: \"Machine learning (ML) is a type of artificial intelligence (AI) that allows computers to learn and improve from experience without being explicitly programmed.\""
   ]
  },
  {
   "cell_type": "markdown",
   "metadata": {},
   "source": [
    "# What is Data Science"
   ]
  },
  {
   "cell_type": "markdown",
   "metadata": {},
   "source": [
    "Data Science is a term that is thrown out a lot, but what does it actually mean? Data science is about turning data into value.\n",
    "\n",
    "In the 1980's IBM brought to us it's first relational database storing things like payroll data and customer details... Soon after we started to think about what usefull things we could mine from the data? And the term datamining was born. In the paper called \"From Data Mining to Knowledge Discovery in Databases\", published in 1986, it defines Data Mining as \"the application of specific algorithms for extrating patterns from data.\n",
    "\n",
    "So using statistics we could design patterns with the data obtained... but this was in the last century, now computer science evolved so much that we can have computers as big as the palm of our hands nowadays and the terms Data Mining and Computer Science were leveled up, and in the 90's the term Data Science was born to refere to this new field.\n",
    "\n",
    "As the .com era exploded lots and lots of data were being generated. Huge ammounts of data are generated and collectec every click, every scroll, everytime we open an app. And Why? Business intelligence.\n",
    "\n",
    "The Journal of Data Science defines it as \"almost everything that has something to do with data: Collecting, analyzing, modeling...\" \n"
   ]
  },
  {
   "cell_type": "markdown",
   "metadata": {},
   "source": [
    "# Intro to Linear Regression & Specifying the Problem"
   ]
  },
  {
   "cell_type": "markdown",
   "metadata": {},
   "source": [
    "Regression is the workhorse of Data Science, Business Analitics and Research. People use Regression whenever they need to model a phenomenon, or make a prediction, or discover the hidden relationships among things.\n",
    "\n",
    "Initially, to aproach a problem a Data Scientist would carefully formulate the question that they are looking to answer. A clear and well formulated question will determine the research and will also affect the kind of data to gather. After answering that, we need to:\n",
    "* gather the data;\n",
    "* clean it; \n",
    "* lookout for errors;\n",
    "* lookout for missing data or incomplete data...\n",
    "\n",
    "In fact, we have to explore the data that we've gathered, and often this means visualising the data so that we can better understand on what it is that we are working with. ***A graph or a chart is much more helpfull than a table of numbers.***\n",
    "\n",
    "After we've done all that the next step is _training our algorithm_, in this case our algorithm will be ***linear regression***. And finally we have to evaluate the results:\n",
    "* How did the algorithm do? \n",
    "* Did it answer the question?\n",
    "* How accurate was the algorithm to answer the question? \n",
    "\n",
    "The proccess outlined here is the network flow for understanding and making sense of the world, is the proccess Data Scientists use to it so:\n",
    "\n",
    "1. Formulate Question\n",
    "2. Gather Data\n",
    "3. Clean Data\n",
    "4. Explore and Visualise\n",
    "5. Train Algorithm\n",
    "6. Evaluate.\n"
   ]
  },
  {
   "cell_type": "markdown",
   "metadata": {},
   "source": [
    "## 1. ***To formulate a good question we must be specific.***\n"
   ]
  },
  {
   "cell_type": "markdown",
   "metadata": {},
   "source": [
    "And to be specific means that the question must:\n",
    "\n",
    "* **Be testable:** We need to be able to actually check the relationship between the terms of our question using data.\n",
    "* **Have a dependent variable:** The variable that we are trying to predict, in machine learning we can call it the _Target_\n",
    "* **Have a independent variable:** Is the variable that we are using to predict, in machine learning we call it the _Feature_\n",
    "\n"
   ]
  },
  {
   "cell_type": "markdown",
   "metadata": {},
   "source": [
    "#### On this course example we made a question: Can we use movie budgets to predict movie revenue?"
   ]
  },
  {
   "cell_type": "markdown",
   "metadata": {},
   "source": [
    "This question is **testable**, we are actually checking if there is a relationship between budgets and revenues, this is something that we can measure using Data and Linear Regression.\n",
    "\n",
    "As Data Scientists we can actually identify exactly what it is that we are trying to predict: The movie Revenues! And it can be called **Dependant Variable** in Data Science, in ML it would be the **Target** (what we want to know) also, we can identify whats it is that we are using to make the prediction: Movie Budgets called in Data Science **Independant Variable**, in ML it would be the **Feature**"
   ]
  },
  {
   "cell_type": "markdown",
   "metadata": {},
   "source": [
    "## 2. ***Defined and formulated the Question, it's time to Gather the Data!***"
   ]
  },
  {
   "cell_type": "markdown",
   "metadata": {},
   "source": [
    "* 1st we need data on our feature: movie budgets in USD\n",
    "* 2nd we need data on our target: movie revenue in USD\n",
    "\n",
    "After gathering data like a spread cheet, we must clean it."
   ]
  },
  {
   "cell_type": "markdown",
   "metadata": {},
   "source": []
  },
  {
   "cell_type": "markdown",
   "metadata": {},
   "source": []
  }
 ],
 "metadata": {
  "language_info": {
   "name": "python"
  }
 },
 "nbformat": 4,
 "nbformat_minor": 2
}
