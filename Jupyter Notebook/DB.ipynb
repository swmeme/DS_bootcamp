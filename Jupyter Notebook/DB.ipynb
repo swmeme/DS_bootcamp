{
 "cells": [
  {
   "cell_type": "markdown",
   "metadata": {},
   "source": [
    "# Introduction to the course"
   ]
  },
  {
   "cell_type": "markdown",
   "metadata": {},
   "source": [
    "### Why this course?"
   ]
  },
  {
   "cell_type": "markdown",
   "metadata": {},
   "source": [
    "This course covers the entire workflow of a Data Scientist from beginning to end, this starts with: \n",
    "* Learning how to ask the right questions;\n",
    "* Gathering the Data;\n",
    "* Cleaning the Data;\n",
    "* Exploring and visualising the data;\n",
    "* Put in and train the MAchine Learning Algotrithm;\n",
    "* Evaluate the Algorithm's performance and analyse the results\n",
    "* Learn how to make the first regression through to complex and advanced topics like TensorFlow and Deeplearning\n",
    "* How to code in Python 3\n",
    "\n",
    "This is the only online course taught by a professional bootcamp instructor"
   ]
  },
  {
   "cell_type": "markdown",
   "metadata": {},
   "source": [
    "# Linear Regression"
   ]
  },
  {
   "cell_type": "markdown",
   "metadata": {},
   "source": [
    "Initially, to aproach a problem a Data Scientist would carefully formulate the question that they are looking to answer. A clear and well formulated question will determine the research and will also affect the kind of data to gather. After answering that, we need to gather the data  and clean it, lookout for errors, lookout for missing data or incomplete data, in fact, we have to explore the data that we've gathered, and often this means visualising the data so we can better understand on what it is that we are working with. A graph or a chart is much more helpfull than a table of numbers.\n",
    "\n",
    "After we've done all that the next step is training our algorithm, in this case our algorithm will be ***linear regression***. And finally we have to evaluate the results, how did the algorithm do? How accurate was the algorithm to answer the question?\n",
    "\n"
   ]
  },
  {
   "cell_type": "markdown",
   "metadata": {},
   "source": []
  }
 ],
 "metadata": {
  "language_info": {
   "name": "python"
  }
 },
 "nbformat": 4,
 "nbformat_minor": 2
}
